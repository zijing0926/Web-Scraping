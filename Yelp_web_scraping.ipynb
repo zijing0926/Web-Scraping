{
 "cells": [
  {
   "cell_type": "markdown",
   "metadata": {},
   "source": [
    "## Web Scraping"
   ]
  },
  {
   "cell_type": "markdown",
   "metadata": {},
   "source": [
    "Go to Yelp, choose any city, web scrape some basic information for around 20 restaurants(two pages), including:\n",
    "1. number of reviews, \n",
    "2. star rating,\n",
    "3. phone number, \n",
    "4. address(location)\n",
    "5. at least four amenities, and transform them into dictionary. For example, {'Dairy-Free Options': 'Yes'...}"
   ]
  },
  {
   "cell_type": "code",
   "execution_count": 1,
   "metadata": {
    "collapsed": true
   },
   "outputs": [],
   "source": [
    "import requests\n",
    "from bs4 import BeautifulSoup\n",
    "import time"
   ]
  },
  {
   "cell_type": "code",
   "execution_count": 136,
   "metadata": {
    "collapsed": true
   },
   "outputs": [],
   "source": [
    "##define a globad header\n",
    "headers={\"accept\": \"*/*\",\n",
    "\"accept-encoding\": \"gzip, deflate, br\",\n",
    "\"accept-language\": \"en-US,en;q=0.9\",\n",
    "\"cache-control\": \"no-cache, must-revalidate\",\n",
    "\"content-type\": \"text/javascript; charset=UTF-8\"}"
   ]
  },
  {
   "cell_type": "code",
   "execution_count": null,
   "metadata": {
    "collapsed": true
   },
   "outputs": [],
   "source": [
    "lis1=[1,2,3]\n",
    "lis2=[2]\n",
    "lis1.append(lis2)--lis1=[1,2,3,[2]]\n",
    "lis1.extend(lis2)--lis1=[1,2,3,2]"
   ]
  },
  {
   "cell_type": "code",
   "execution_count": 137,
   "metadata": {
    "collapsed": true
   },
   "outputs": [],
   "source": [
    "def get_urls(base_url,n):\n",
    "    ##get page url\n",
    "    extracted_url=[]\n",
    "    for i in range(n):\n",
    "        params ={\n",
    "            'find_loc':'Santa Cruz',\n",
    "            'ns': 1,\n",
    "            'start': i*10\n",
    "        }\n",
    "        response = requests.get(base_url, params=params, headers=headers)\n",
    "        soup = BeautifulSoup(response.text,\"lxml\")\n",
    "        \n",
    "        ##find all urls in this page\n",
    "        urls=soup.find_all('a',attrs={'class':'lemon--a__373c0__IEZFH link__373c0__1G70M link-color--inherit__373c0__3dzpk link-size--inherit__373c0__1VFlE'})\n",
    "        ##extract the valid ones for restuarant\n",
    "        extracted_url.extend([url['href'] for url in urls if ('biz' in url['href']) and (len(url['href'])<100)])\n",
    "    ##get the complete urls    \n",
    "    valid_url=['https://www.yelp.com'+u for u in extracted_url]\n",
    "        \n",
    "    return valid_url\n"
   ]
  },
  {
   "cell_type": "code",
   "execution_count": 60,
   "metadata": {
    "scrolled": true
   },
   "outputs": [
    {
     "data": {
      "text/plain": [
       "['https://www.yelp.com/biz/mariannes-ice-cream-santa-cruz',\n",
       " 'https://www.yelp.com/biz/the-penny-ice-creamery-santa-cruz',\n",
       " 'https://www.yelp.com/biz/lillians-italian-kitchen-santa-cruz-2',\n",
       " 'https://www.yelp.com/biz/cafe-brasil-santa-cruz',\n",
       " 'https://www.yelp.com/biz/laili-restaurant-santa-cruz',\n",
       " 'https://www.yelp.com/biz/lindas-seabreeze-cafe-santa-cruz',\n",
       " 'https://www.yelp.com/biz/harbor-cafe-santa-cruz',\n",
       " 'https://www.yelp.com/biz/verve-coffee-roasters-santa-cruz-3',\n",
       " 'https://www.yelp.com/biz/hulas-island-grill-and-tiki-room-santa-cruz',\n",
       " 'https://www.yelp.com/biz/walnut-avenue-caf%C3%A9-santa-cruz-2',\n",
       " 'https://www.yelp.com/biz/pacific-cookie-company-santa-cruz-5',\n",
       " 'https://www.yelp.com/biz/taqueria-los-pericos-santa-cruz',\n",
       " 'https://www.yelp.com/biz/the-buttery-santa-cruz',\n",
       " 'https://www.yelp.com/biz/zacharys-restaurant-santa-cruz',\n",
       " 'https://www.yelp.com/biz/pono-hawaiian-grill-santa-cruz',\n",
       " 'https://www.yelp.com/biz/mission-hill-creamery-santa-cruz-4',\n",
       " 'https://www.yelp.com/biz/mozaic-santa-cruz',\n",
       " 'https://www.yelp.com/biz/zoccolis-delicatessen-santa-cruz',\n",
       " 'https://www.yelp.com/biz/mystery-spot-santa-cruz',\n",
       " 'https://www.yelp.com/biz/saturn-cafe-santa-cruz']"
      ]
     },
     "execution_count": 60,
     "metadata": {},
     "output_type": "execute_result"
    }
   ],
   "source": [
    "##get urls for two pages\n",
    "##check whether its valid\n",
    "get_urls('https://www.yelp.com/search',2)"
   ]
  },
  {
   "cell_type": "code",
   "execution_count": 138,
   "metadata": {
    "collapsed": true
   },
   "outputs": [],
   "source": [
    "##stars and reviews are in the same divs\n",
    "def get_stars_reviews(soup):\n",
    "    ###get stars_reviews:\n",
    "    info = soup.find('div', attrs={'class': 'lemon--div__373c0__1mboc arrange__373c0__2C9bH gutter-1-5__373c0__2vL-3 vertical-align-middle__373c0__1SDTo margin-b1__373c0__1khoT border-color--default__373c0__3-ifU'})   \n",
    "    divs = info.find_all('div')\n",
    "    star = divs[1]\n",
    "    reviews = divs[2]  \n",
    "    return (float(star['aria-label'].split()[0]),int(reviews.text.split()[0]))"
   ]
  },
  {
   "cell_type": "code",
   "execution_count": 68,
   "metadata": {},
   "outputs": [
    {
     "data": {
      "text/plain": [
       "(4.5, 1816)"
      ]
     },
     "execution_count": 68,
     "metadata": {},
     "output_type": "execute_result"
    }
   ],
   "source": [
    "get_stars_reviews('https://www.yelp.com/biz/mariannes-ice-cream-santa-cruz')"
   ]
  },
  {
   "cell_type": "code",
   "execution_count": 150,
   "metadata": {
    "collapsed": true
   },
   "outputs": [],
   "source": [
    "#if information is in <p> </p>, we can always get it from .text\n",
    "import re\n",
    "def get_phone(soup):\n",
    "    phone = soup.find_all('p', attrs={'class': 'lemon--p__373c0__3Qnnj text__373c0__2Kxyz text-color--normal__373c0__3xep9 text-align--left__373c0__2XGa-'})\n",
    "    ##get all texts\n",
    "    lis = [p.text for p in phone]\n",
    "    ##extract digits from all p\n",
    "    regex=re.compile(r\"\\d+\")\n",
    "    number = [''.join(regex.findall(l)) for l in lis]\n",
    "    valid = [n for n in number if n != '']\n",
    "    ##get the valid phone number\n",
    "    if len(valid)>0:\n",
    "        return [v for v in valid if len(v)==10][0]\n",
    "    else:\n",
    "        return 'No Info'"
   ]
  },
  {
   "cell_type": "code",
   "execution_count": 151,
   "metadata": {},
   "outputs": [
    {
     "data": {
      "text/plain": [
       "10"
      ]
     },
     "execution_count": 151,
     "metadata": {},
     "output_type": "execute_result"
    }
   ],
   "source": [
    "len('8314234545')"
   ]
  },
  {
   "cell_type": "code",
   "execution_count": 152,
   "metadata": {},
   "outputs": [
    {
     "data": {
      "text/plain": [
       "'8314234545'"
      ]
     },
     "execution_count": 152,
     "metadata": {},
     "output_type": "execute_result"
    }
   ],
   "source": [
    "get_phone(soup)"
   ]
  },
  {
   "cell_type": "code",
   "execution_count": 164,
   "metadata": {
    "collapsed": true
   },
   "outputs": [],
   "source": [
    "def get_address(soup):\n",
    "    add = soup.find_all('address',attrs={'class':'lemon--address__373c0__2sPac'})\n",
    "    format_add = ' '.join([a.text for a in add])\n",
    "    return format_add"
   ]
  },
  {
   "cell_type": "code",
   "execution_count": 1,
   "metadata": {},
   "outputs": [
    {
     "data": {
      "text/plain": [
       "'101B Cooper St Santa Cruz, CA 95060'"
      ]
     },
     "execution_count": 1,
     "metadata": {},
     "output_type": "execute_result"
    }
   ],
   "source": [
    "add = ['101B Cooper St','Santa Cruz, CA 95060']\n",
    "' '.join(add)"
   ]
  },
  {
   "cell_type": "code",
   "execution_count": 165,
   "metadata": {},
   "outputs": [
    {
     "data": {
      "text/plain": [
       "'101B Cooper StSanta Cruz, CA 95060'"
      ]
     },
     "execution_count": 165,
     "metadata": {},
     "output_type": "execute_result"
    }
   ],
   "source": [
    "get_address(soup)"
   ]
  },
  {
   "cell_type": "code",
   "execution_count": 157,
   "metadata": {
    "collapsed": true
   },
   "outputs": [],
   "source": [
    "def get_amen(soup):\n",
    "    ##get to the right division\n",
    "    div = soup.find('div',attrs={'class':'lemon--div__373c0__1mboc arrange__373c0__2C9bH gutter-2__373c0__1DiLQ layout-wrap__373c0__1as1X layout-2-units__373c0__38itL border-color--default__373c0__3-ifU'})\n",
    "    amen_text = div.find_all('span',attrs={'class':'lemon--span__373c0__3997G text__373c0__2Kxyz text-color--normal__373c0__3xep9 text-align--left__373c0__2XGa-'})\n",
    "    amen_value = div.find_all('span',attrs={\"class\":\"lemon--span__373c0__3997G text__373c0__2Kxyz text-color--normal__373c0__3xep9 text-align--left__373c0__2XGa- text-weight--bold__373c0__1elNz\"})\n",
    "    ##combine text and values\n",
    "    amen = {t.text:v.text.replace('\\xa0','') for t,v in zip(amen_text,amen_value)}\n",
    "    return amen   \n",
    "    "
   ]
  },
  {
   "cell_type": "code",
   "execution_count": 135,
   "metadata": {},
   "outputs": [
    {
     "data": {
      "text/plain": [
       "{'Vegetarian Options': 'Yes',\n",
       " 'High Chairs': 'Yes',\n",
       " 'Vegan Options': 'Yes',\n",
       " 'Kids Menu': 'Yes'}"
      ]
     },
     "execution_count": 135,
     "metadata": {},
     "output_type": "execute_result"
    }
   ],
   "source": [
    "response = requests.get('https://www.yelp.com/biz/laili-restaurant-santa-cruz',headers=headers)\n",
    "soup = BeautifulSoup(response.text,\"lxml\")\n",
    "lis = soup.find_all('div',attrs={'class':'lemon--div__373c0__1mboc arrange__373c0__2C9bH gutter-2__373c0__1DiLQ layout-wrap__373c0__1as1X layout-2-units__373c0__38itL border-color--default__373c0__3-ifU'})\n",
    "amen_text = lis[0].find_all('span',attrs={'class':'lemon--span__373c0__3997G text__373c0__2Kxyz text-color--normal__373c0__3xep9 text-align--left__373c0__2XGa-'})\n",
    "amen_value = lis[0].find_all('span',attrs={\"class\":\"lemon--span__373c0__3997G text__373c0__2Kxyz text-color--normal__373c0__3xep9 text-align--left__373c0__2XGa- text-weight--bold__373c0__1elNz\"})\n",
    "{t.text:v.text.replace('\\xa0','') for t,v in zip(amen_text,amen_value)}\n",
    "\n",
    "#[l for l in lis if '<span' in l]"
   ]
  },
  {
   "cell_type": "code",
   "execution_count": 158,
   "metadata": {
    "collapsed": true
   },
   "outputs": [],
   "source": [
    "##lastly, get the name of the restaurant\n",
    "def get_name(soup):\n",
    "    return soup.find('h1', attrs = {'class':'lemon--h1__373c0__2ZHSL heading--h1__373c0__dvYgw undefined heading--inline__373c0__10ozy'}).text\n"
   ]
  },
  {
   "cell_type": "code",
   "execution_count": 166,
   "metadata": {
    "collapsed": true
   },
   "outputs": [],
   "source": [
    "##grab all infomation together\n",
    "all_names = ['Restaurant Name','Star Rating','Number of Reviews','Phone','Address','Amentities']\n",
    "def all_info(url):\n",
    "    response = requests.get(url,headers=headers)\n",
    "    soup = BeautifulSoup(response.text,\"lxml\")\n",
    "    ##grab all infos\n",
    "    name = get_name(soup)\n",
    "    star = get_stars_reviews(soup)[0]\n",
    "    review = get_stars_reviews(soup)[1]\n",
    "    phone = get_phone(soup)\n",
    "    address = get_address(soup)\n",
    "    amen = get_amen(soup)\n",
    "    info = [name,star,review,phone,address,amen]\n",
    "    return dict(zip(all_names,info))"
   ]
  },
  {
   "cell_type": "code",
   "execution_count": 167,
   "metadata": {},
   "outputs": [
    {
     "data": {
      "text/plain": [
       "{'Restaurant Name': 'Laili Restaurant',\n",
       " 'Star Rating': 4.5,\n",
       " 'Number of Revies': 1189,\n",
       " 'Phone': '8314234545',\n",
       " 'Address': '101B Cooper StSanta Cruz, CA 95060',\n",
       " 'Amentities': {'Vegetarian Options': 'Yes',\n",
       "  'High Chairs': 'Yes',\n",
       "  'Vegan Options': 'Yes',\n",
       "  'Kids Menu': 'Yes'}}"
      ]
     },
     "execution_count": 167,
     "metadata": {},
     "output_type": "execute_result"
    }
   ],
   "source": [
    "all_info('https://www.yelp.com/biz/laili-restaurant-santa-cruz')"
   ]
  },
  {
   "cell_type": "code",
   "execution_count": null,
   "metadata": {
    "collapsed": true
   },
   "outputs": [],
   "source": [
    "##this should get the results directly, but we need to be a little more cautious\n",
    "[all_info(url) for url in get_urls('https://www.yelp.com/search',2)]"
   ]
  },
  {
   "cell_type": "code",
   "execution_count": 168,
   "metadata": {
    "collapsed": true
   },
   "outputs": [],
   "source": [
    "results=[]\n",
    "for url in get_urls('https://www.yelp.com/search',2):\n",
    "    ##incase some page wouldnt work\n",
    "    try:\n",
    "        scraped = all_info(url)\n",
    "    except:\n",
    "        print('blocked')\n",
    "    ##adding time sleep will decrease the chance of us being blocked,\n",
    "    ##but increase the operation time\n",
    "    time.sleep(1)\n",
    "    results.append(scraped)"
   ]
  },
  {
   "cell_type": "code",
   "execution_count": 169,
   "metadata": {},
   "outputs": [
    {
     "data": {
      "text/plain": [
       "[{'Restaurant Name': \"Marianne's Ice Cream\",\n",
       "  'Star Rating': 4.5,\n",
       "  'Number of Revies': 1816,\n",
       "  'Phone': '8314581447',\n",
       "  'Address': '1020 Ocean StSanta Cruz, CA 95060',\n",
       "  'Amentities': {'Dairy-Free Options': 'Yes',\n",
       "   'Vegetarian Options': 'Yes',\n",
       "   'Offers Delivery': 'Yes',\n",
       "   'Offers Takeout': 'Yes'}},\n",
       " {'Restaurant Name': 'The Penny Ice Creamery',\n",
       "  'Star Rating': 4.5,\n",
       "  'Number of Revies': 1724,\n",
       "  'Phone': '8312042523',\n",
       "  'Address': '913 Cedar StSanta Cruz, CA 95060',\n",
       "  'Amentities': {'Dairy-Free Options': 'Yes',\n",
       "   'Vegan Options': 'Yes',\n",
       "   'Offers Delivery': 'Yes',\n",
       "   'Offers Takeout': 'Yes'}},\n",
       " {'Restaurant Name': \"Lillian's Italian Kitchen\",\n",
       "  'Star Rating': 4.5,\n",
       "  'Number of Revies': 2065,\n",
       "  'Phone': '8314252288',\n",
       "  'Address': '1148 Soquel AveSanta Cruz, CA 95062',\n",
       "  'Amentities': {'Vegetarian Options': 'Yes',\n",
       "   'High Chairs': 'Yes',\n",
       "   'Kids Activities Nearby': 'Yes',\n",
       "   'Happy Hour Specials': 'Yes'}},\n",
       " {'Restaurant Name': 'Cafe Brasil',\n",
       "  'Star Rating': 4.0,\n",
       "  'Number of Revies': 1798,\n",
       "  'Phone': '8314291855',\n",
       "  'Address': '1410 Mission StSanta Cruz, CA 95060',\n",
       "  'Amentities': {'Vegetarian Options': 'Yes',\n",
       "   'High Chairs': 'Yes',\n",
       "   'Kids Activities Nearby': 'Yes',\n",
       "   'Vegan Options': 'Yes'}},\n",
       " {'Restaurant Name': 'Laili Restaurant',\n",
       "  'Star Rating': 4.5,\n",
       "  'Number of Revies': 1189,\n",
       "  'Phone': '8314234545',\n",
       "  'Address': '101B Cooper StSanta Cruz, CA 95060',\n",
       "  'Amentities': {'Vegetarian Options': 'Yes',\n",
       "   'High Chairs': 'Yes',\n",
       "   'Vegan Options': 'Yes',\n",
       "   'Kids Menu': 'Yes'}},\n",
       " {'Restaurant Name': \"Linda's Seabreeze Cafe\",\n",
       "  'Star Rating': 4.5,\n",
       "  'Number of Revies': 998,\n",
       "  'Phone': '8314279713',\n",
       "  'Address': '542 Seabright AveSanta Cruz, CA 95062',\n",
       "  'Amentities': {'Kids Activities Nearby': 'Yes',\n",
       "   'Vegan Options': 'Yes',\n",
       "   'Kids Menu': 'Yes',\n",
       "   'Takes Reservations': 'No'}},\n",
       " {'Restaurant Name': 'Harbor Cafe',\n",
       "  'Star Rating': 4.5,\n",
       "  'Number of Revies': 1188,\n",
       "  'Phone': '8314754948',\n",
       "  'Address': '535 7th AveSanta Cruz, CA 95062',\n",
       "  'Amentities': {'Vegetarian Options': 'Yes',\n",
       "   'Vegan Options': 'Yes',\n",
       "   'Happy Hour Specials': 'Yes',\n",
       "   'Kids Menu': 'Yes'}},\n",
       " {'Restaurant Name': 'Verve Coffee Roasters',\n",
       "  'Star Rating': 4.0,\n",
       "  'Number of Revies': 973,\n",
       "  'Phone': '8316007784',\n",
       "  'Address': '1540 Pacific AveSanta Cruz, CA 95062',\n",
       "  'Amentities': {'Offers Delivery': 'No',\n",
       "   'Offers Takeout': 'Yes',\n",
       "   'Accepts Credit Cards': 'Yes',\n",
       "   'Accepts Apple Pay': 'Yes'}},\n",
       " {'Restaurant Name': \"Hula's Island Grill and Tiki Room\",\n",
       "  'Star Rating': 4.0,\n",
       "  'Number of Revies': 1718,\n",
       "  'Phone': '8314264852',\n",
       "  'Address': '221 Cathcart StSanta Cruz, CA 95060',\n",
       "  'Amentities': {'Vegetarian Options': 'Yes',\n",
       "   'High Chairs': 'Yes',\n",
       "   'Vegan Options': 'Yes',\n",
       "   'Happy Hour Specials': 'Yes'}},\n",
       " {'Restaurant Name': 'Walnut Avenue Café',\n",
       "  'Star Rating': 4.0,\n",
       "  'Number of Revies': 1036,\n",
       "  'Phone': '8314572307',\n",
       "  'Address': '106 Walnut AveSanta Cruz, CA 95060',\n",
       "  'Amentities': {'Changing Tables': 'Yes',\n",
       "   'High Chairs': 'Yes',\n",
       "   'Kids Activities Nearby': 'Yes',\n",
       "   'Vegan Options': 'Yes'}},\n",
       " {'Restaurant Name': 'Pacific Cookie Company',\n",
       "  'Star Rating': 4.5,\n",
       "  'Number of Revies': 630,\n",
       "  'Phone': '8314296905',\n",
       "  'Address': '1203 Pacific AveSanta Cruz, CA 95060',\n",
       "  'Amentities': {'Dairy-Free Options': 'Yes',\n",
       "   'Vegan Options': 'Yes',\n",
       "   'Gluten-Free Options': 'Yes',\n",
       "   'Offers Delivery': 'Yes'}},\n",
       " {'Restaurant Name': 'Taqueria Los Pericos',\n",
       "  'Star Rating': 4.0,\n",
       "  'Number of Revies': 979,\n",
       "  'Phone': '8314697685',\n",
       "  'Address': '139 Water StSanta Cruz, CA 95060',\n",
       "  'Amentities': {'Vegan Options': 'Yes',\n",
       "   'Kids Menu': 'Yes',\n",
       "   'Takes Reservations': 'No',\n",
       "   'Offers Delivery': 'No'}},\n",
       " {'Restaurant Name': 'The Buttery',\n",
       "  'Star Rating': 4.0,\n",
       "  'Number of Revies': 1350,\n",
       "  'Phone': '8314583020',\n",
       "  'Address': '702 Soquel AveSanta Cruz, CA 95062',\n",
       "  'Amentities': {'Vegan Options': 'Yes',\n",
       "   'Gluten-Free Options': 'Yes',\n",
       "   'Takes Reservations': 'No',\n",
       "   'Offers Delivery': 'Yes'}},\n",
       " {'Restaurant Name': \"Zachary's Restaurant\",\n",
       "  'Star Rating': 4.0,\n",
       "  'Number of Revies': 992,\n",
       "  'Phone': '8314270646',\n",
       "  'Address': '819 Pacific AveSanta Cruz, CA 95060',\n",
       "  'Amentities': {'Vegan Options': 'Yes',\n",
       "   'Takes Reservations': 'No',\n",
       "   'Offers Delivery': 'No',\n",
       "   'Offers Takeout': 'Yes'}},\n",
       " {'Restaurant Name': 'Pono Hawaiian Grill',\n",
       "  'Star Rating': 3.5,\n",
       "  'Number of Revies': 1470,\n",
       "  'Phone': '8314267666',\n",
       "  'Address': '120 Union StSanta Cruz, CA 95060',\n",
       "  'Amentities': {'Stroller at Table': 'Yes',\n",
       "   'Kids Menu': 'Yes',\n",
       "   'Kids Activities Nearby': 'Yes',\n",
       "   'Happy Hour Specials': 'Yes'}},\n",
       " {'Restaurant Name': 'Mission Hill Creamery',\n",
       "  'Star Rating': 4.5,\n",
       "  'Number of Revies': 419,\n",
       "  'Phone': '8315080774',\n",
       "  'Address': '1101 Pacific AveSte BSanta Cruz, CA 95060',\n",
       "  'Amentities': {'Kids Menu': 'Yes',\n",
       "   'Stroller at Table': 'Yes',\n",
       "   'Gluten-Free Options': 'Yes',\n",
       "   'Vegetarian Options': 'Yes'}},\n",
       " {'Restaurant Name': 'Mozaic',\n",
       "  'Star Rating': 4.5,\n",
       "  'Number of Revies': 542,\n",
       "  'Phone': '8314548663',\n",
       "  'Address': '110 ChurchSanta Cruz, CA 95060',\n",
       "  'Amentities': {'Happy Hour Specials': 'Yes',\n",
       "   'Vegan Options': 'Yes',\n",
       "   'Takes Reservations': 'Yes',\n",
       "   'Offers Delivery': 'Yes'}},\n",
       " {'Restaurant Name': \"Zoccoli's Delicatessen\",\n",
       "  'Star Rating': 4.0,\n",
       "  'Number of Revies': 726,\n",
       "  'Phone': '8314231711',\n",
       "  'Address': '1534 Pacific AveSanta Cruz, CA 95060',\n",
       "  'Amentities': {'Vegan Options': 'Yes',\n",
       "   'Vegetarian Options': 'Yes',\n",
       "   'Takes Reservations': 'No',\n",
       "   'Offers Delivery': 'Yes'}},\n",
       " {'Restaurant Name': 'Mystery Spot',\n",
       "  'Star Rating': 4.0,\n",
       "  'Number of Revies': 1131,\n",
       "  'Phone': '8314238897',\n",
       "  'Address': '465 Mystery Spot RdSanta Cruz, CA 95065',\n",
       "  'Amentities': {'Accepts Credit Cards': 'Yes',\n",
       "   'Parking': 'Private Lot',\n",
       "   'Bike Parking': 'Yes',\n",
       "   'Good for Kids': 'Yes'}},\n",
       " {'Restaurant Name': 'Saturn Cafe',\n",
       "  'Star Rating': 3.5,\n",
       "  'Number of Revies': 1605,\n",
       "  'Phone': '8314298505',\n",
       "  'Address': '145 Laurel StSanta Cruz, CA 95060',\n",
       "  'Amentities': {'Happy Hour Specials': 'Yes',\n",
       "   'Kids Menu': 'Yes',\n",
       "   'Stroller at Table': 'Yes',\n",
       "   'High Chairs': 'Yes'}}]"
      ]
     },
     "execution_count": 169,
     "metadata": {},
     "output_type": "execute_result"
    }
   ],
   "source": [
    "##mae a lis of dictionary\n",
    "results"
   ]
  },
  {
   "cell_type": "code",
   "execution_count": 170,
   "metadata": {},
   "outputs": [
    {
     "data": {
      "text/html": [
       "<div>\n",
       "<style scoped>\n",
       "    .dataframe tbody tr th:only-of-type {\n",
       "        vertical-align: middle;\n",
       "    }\n",
       "\n",
       "    .dataframe tbody tr th {\n",
       "        vertical-align: top;\n",
       "    }\n",
       "\n",
       "    .dataframe thead th {\n",
       "        text-align: right;\n",
       "    }\n",
       "</style>\n",
       "<table border=\"1\" class=\"dataframe\">\n",
       "  <thead>\n",
       "    <tr style=\"text-align: right;\">\n",
       "      <th></th>\n",
       "      <th>Restaurant Name</th>\n",
       "      <th>Star Rating</th>\n",
       "      <th>Number of Revies</th>\n",
       "      <th>Phone</th>\n",
       "      <th>Address</th>\n",
       "      <th>Amentities</th>\n",
       "    </tr>\n",
       "  </thead>\n",
       "  <tbody>\n",
       "    <tr>\n",
       "      <th>0</th>\n",
       "      <td>Marianne's Ice Cream</td>\n",
       "      <td>4.5</td>\n",
       "      <td>1816</td>\n",
       "      <td>8314581447</td>\n",
       "      <td>1020 Ocean StSanta Cruz, CA 95060</td>\n",
       "      <td>{'Dairy-Free Options': 'Yes', 'Vegetarian Opti...</td>\n",
       "    </tr>\n",
       "    <tr>\n",
       "      <th>1</th>\n",
       "      <td>The Penny Ice Creamery</td>\n",
       "      <td>4.5</td>\n",
       "      <td>1724</td>\n",
       "      <td>8312042523</td>\n",
       "      <td>913 Cedar StSanta Cruz, CA 95060</td>\n",
       "      <td>{'Dairy-Free Options': 'Yes', 'Vegan Options':...</td>\n",
       "    </tr>\n",
       "    <tr>\n",
       "      <th>2</th>\n",
       "      <td>Lillian's Italian Kitchen</td>\n",
       "      <td>4.5</td>\n",
       "      <td>2065</td>\n",
       "      <td>8314252288</td>\n",
       "      <td>1148 Soquel AveSanta Cruz, CA 95062</td>\n",
       "      <td>{'Vegetarian Options': 'Yes', 'High Chairs': '...</td>\n",
       "    </tr>\n",
       "    <tr>\n",
       "      <th>3</th>\n",
       "      <td>Cafe Brasil</td>\n",
       "      <td>4.0</td>\n",
       "      <td>1798</td>\n",
       "      <td>8314291855</td>\n",
       "      <td>1410 Mission StSanta Cruz, CA 95060</td>\n",
       "      <td>{'Vegetarian Options': 'Yes', 'High Chairs': '...</td>\n",
       "    </tr>\n",
       "    <tr>\n",
       "      <th>4</th>\n",
       "      <td>Laili Restaurant</td>\n",
       "      <td>4.5</td>\n",
       "      <td>1189</td>\n",
       "      <td>8314234545</td>\n",
       "      <td>101B Cooper StSanta Cruz, CA 95060</td>\n",
       "      <td>{'Vegetarian Options': 'Yes', 'High Chairs': '...</td>\n",
       "    </tr>\n",
       "    <tr>\n",
       "      <th>5</th>\n",
       "      <td>Linda's Seabreeze Cafe</td>\n",
       "      <td>4.5</td>\n",
       "      <td>998</td>\n",
       "      <td>8314279713</td>\n",
       "      <td>542 Seabright AveSanta Cruz, CA 95062</td>\n",
       "      <td>{'Kids Activities Nearby': 'Yes', 'Vegan Optio...</td>\n",
       "    </tr>\n",
       "    <tr>\n",
       "      <th>6</th>\n",
       "      <td>Harbor Cafe</td>\n",
       "      <td>4.5</td>\n",
       "      <td>1188</td>\n",
       "      <td>8314754948</td>\n",
       "      <td>535 7th AveSanta Cruz, CA 95062</td>\n",
       "      <td>{'Vegetarian Options': 'Yes', 'Vegan Options':...</td>\n",
       "    </tr>\n",
       "    <tr>\n",
       "      <th>7</th>\n",
       "      <td>Verve Coffee Roasters</td>\n",
       "      <td>4.0</td>\n",
       "      <td>973</td>\n",
       "      <td>8316007784</td>\n",
       "      <td>1540 Pacific AveSanta Cruz, CA 95062</td>\n",
       "      <td>{'Offers Delivery': 'No', 'Offers Takeout': 'Y...</td>\n",
       "    </tr>\n",
       "    <tr>\n",
       "      <th>8</th>\n",
       "      <td>Hula's Island Grill and Tiki Room</td>\n",
       "      <td>4.0</td>\n",
       "      <td>1718</td>\n",
       "      <td>8314264852</td>\n",
       "      <td>221 Cathcart StSanta Cruz, CA 95060</td>\n",
       "      <td>{'Vegetarian Options': 'Yes', 'High Chairs': '...</td>\n",
       "    </tr>\n",
       "    <tr>\n",
       "      <th>9</th>\n",
       "      <td>Walnut Avenue Café</td>\n",
       "      <td>4.0</td>\n",
       "      <td>1036</td>\n",
       "      <td>8314572307</td>\n",
       "      <td>106 Walnut AveSanta Cruz, CA 95060</td>\n",
       "      <td>{'Changing Tables': 'Yes', 'High Chairs': 'Yes...</td>\n",
       "    </tr>\n",
       "    <tr>\n",
       "      <th>10</th>\n",
       "      <td>Pacific Cookie Company</td>\n",
       "      <td>4.5</td>\n",
       "      <td>630</td>\n",
       "      <td>8314296905</td>\n",
       "      <td>1203 Pacific AveSanta Cruz, CA 95060</td>\n",
       "      <td>{'Dairy-Free Options': 'Yes', 'Vegan Options':...</td>\n",
       "    </tr>\n",
       "    <tr>\n",
       "      <th>11</th>\n",
       "      <td>Taqueria Los Pericos</td>\n",
       "      <td>4.0</td>\n",
       "      <td>979</td>\n",
       "      <td>8314697685</td>\n",
       "      <td>139 Water StSanta Cruz, CA 95060</td>\n",
       "      <td>{'Vegan Options': 'Yes', 'Kids Menu': 'Yes', '...</td>\n",
       "    </tr>\n",
       "    <tr>\n",
       "      <th>12</th>\n",
       "      <td>The Buttery</td>\n",
       "      <td>4.0</td>\n",
       "      <td>1350</td>\n",
       "      <td>8314583020</td>\n",
       "      <td>702 Soquel AveSanta Cruz, CA 95062</td>\n",
       "      <td>{'Vegan Options': 'Yes', 'Gluten-Free Options'...</td>\n",
       "    </tr>\n",
       "    <tr>\n",
       "      <th>13</th>\n",
       "      <td>Zachary's Restaurant</td>\n",
       "      <td>4.0</td>\n",
       "      <td>992</td>\n",
       "      <td>8314270646</td>\n",
       "      <td>819 Pacific AveSanta Cruz, CA 95060</td>\n",
       "      <td>{'Vegan Options': 'Yes', 'Takes Reservations':...</td>\n",
       "    </tr>\n",
       "    <tr>\n",
       "      <th>14</th>\n",
       "      <td>Pono Hawaiian Grill</td>\n",
       "      <td>3.5</td>\n",
       "      <td>1470</td>\n",
       "      <td>8314267666</td>\n",
       "      <td>120 Union StSanta Cruz, CA 95060</td>\n",
       "      <td>{'Stroller at Table': 'Yes', 'Kids Menu': 'Yes...</td>\n",
       "    </tr>\n",
       "    <tr>\n",
       "      <th>15</th>\n",
       "      <td>Mission Hill Creamery</td>\n",
       "      <td>4.5</td>\n",
       "      <td>419</td>\n",
       "      <td>8315080774</td>\n",
       "      <td>1101 Pacific AveSte BSanta Cruz, CA 95060</td>\n",
       "      <td>{'Kids Menu': 'Yes', 'Stroller at Table': 'Yes...</td>\n",
       "    </tr>\n",
       "    <tr>\n",
       "      <th>16</th>\n",
       "      <td>Mozaic</td>\n",
       "      <td>4.5</td>\n",
       "      <td>542</td>\n",
       "      <td>8314548663</td>\n",
       "      <td>110 ChurchSanta Cruz, CA 95060</td>\n",
       "      <td>{'Happy Hour Specials': 'Yes', 'Vegan Options'...</td>\n",
       "    </tr>\n",
       "    <tr>\n",
       "      <th>17</th>\n",
       "      <td>Zoccoli's Delicatessen</td>\n",
       "      <td>4.0</td>\n",
       "      <td>726</td>\n",
       "      <td>8314231711</td>\n",
       "      <td>1534 Pacific AveSanta Cruz, CA 95060</td>\n",
       "      <td>{'Vegan Options': 'Yes', 'Vegetarian Options':...</td>\n",
       "    </tr>\n",
       "    <tr>\n",
       "      <th>18</th>\n",
       "      <td>Mystery Spot</td>\n",
       "      <td>4.0</td>\n",
       "      <td>1131</td>\n",
       "      <td>8314238897</td>\n",
       "      <td>465 Mystery Spot RdSanta Cruz, CA 95065</td>\n",
       "      <td>{'Accepts Credit Cards': 'Yes', 'Parking': 'Pr...</td>\n",
       "    </tr>\n",
       "    <tr>\n",
       "      <th>19</th>\n",
       "      <td>Saturn Cafe</td>\n",
       "      <td>3.5</td>\n",
       "      <td>1605</td>\n",
       "      <td>8314298505</td>\n",
       "      <td>145 Laurel StSanta Cruz, CA 95060</td>\n",
       "      <td>{'Happy Hour Specials': 'Yes', 'Kids Menu': 'Y...</td>\n",
       "    </tr>\n",
       "  </tbody>\n",
       "</table>\n",
       "</div>"
      ],
      "text/plain": [
       "                      Restaurant Name  Star Rating  Number of Revies  \\\n",
       "0                Marianne's Ice Cream          4.5              1816   \n",
       "1              The Penny Ice Creamery          4.5              1724   \n",
       "2           Lillian's Italian Kitchen          4.5              2065   \n",
       "3                         Cafe Brasil          4.0              1798   \n",
       "4                    Laili Restaurant          4.5              1189   \n",
       "5              Linda's Seabreeze Cafe          4.5               998   \n",
       "6                         Harbor Cafe          4.5              1188   \n",
       "7               Verve Coffee Roasters          4.0               973   \n",
       "8   Hula's Island Grill and Tiki Room          4.0              1718   \n",
       "9                  Walnut Avenue Café          4.0              1036   \n",
       "10             Pacific Cookie Company          4.5               630   \n",
       "11               Taqueria Los Pericos          4.0               979   \n",
       "12                        The Buttery          4.0              1350   \n",
       "13               Zachary's Restaurant          4.0               992   \n",
       "14                Pono Hawaiian Grill          3.5              1470   \n",
       "15              Mission Hill Creamery          4.5               419   \n",
       "16                             Mozaic          4.5               542   \n",
       "17             Zoccoli's Delicatessen          4.0               726   \n",
       "18                       Mystery Spot          4.0              1131   \n",
       "19                        Saturn Cafe          3.5              1605   \n",
       "\n",
       "         Phone                                    Address  \\\n",
       "0   8314581447          1020 Ocean StSanta Cruz, CA 95060   \n",
       "1   8312042523           913 Cedar StSanta Cruz, CA 95060   \n",
       "2   8314252288        1148 Soquel AveSanta Cruz, CA 95062   \n",
       "3   8314291855        1410 Mission StSanta Cruz, CA 95060   \n",
       "4   8314234545         101B Cooper StSanta Cruz, CA 95060   \n",
       "5   8314279713      542 Seabright AveSanta Cruz, CA 95062   \n",
       "6   8314754948            535 7th AveSanta Cruz, CA 95062   \n",
       "7   8316007784       1540 Pacific AveSanta Cruz, CA 95062   \n",
       "8   8314264852        221 Cathcart StSanta Cruz, CA 95060   \n",
       "9   8314572307         106 Walnut AveSanta Cruz, CA 95060   \n",
       "10  8314296905       1203 Pacific AveSanta Cruz, CA 95060   \n",
       "11  8314697685           139 Water StSanta Cruz, CA 95060   \n",
       "12  8314583020         702 Soquel AveSanta Cruz, CA 95062   \n",
       "13  8314270646        819 Pacific AveSanta Cruz, CA 95060   \n",
       "14  8314267666           120 Union StSanta Cruz, CA 95060   \n",
       "15  8315080774  1101 Pacific AveSte BSanta Cruz, CA 95060   \n",
       "16  8314548663             110 ChurchSanta Cruz, CA 95060   \n",
       "17  8314231711       1534 Pacific AveSanta Cruz, CA 95060   \n",
       "18  8314238897    465 Mystery Spot RdSanta Cruz, CA 95065   \n",
       "19  8314298505          145 Laurel StSanta Cruz, CA 95060   \n",
       "\n",
       "                                           Amentities  \n",
       "0   {'Dairy-Free Options': 'Yes', 'Vegetarian Opti...  \n",
       "1   {'Dairy-Free Options': 'Yes', 'Vegan Options':...  \n",
       "2   {'Vegetarian Options': 'Yes', 'High Chairs': '...  \n",
       "3   {'Vegetarian Options': 'Yes', 'High Chairs': '...  \n",
       "4   {'Vegetarian Options': 'Yes', 'High Chairs': '...  \n",
       "5   {'Kids Activities Nearby': 'Yes', 'Vegan Optio...  \n",
       "6   {'Vegetarian Options': 'Yes', 'Vegan Options':...  \n",
       "7   {'Offers Delivery': 'No', 'Offers Takeout': 'Y...  \n",
       "8   {'Vegetarian Options': 'Yes', 'High Chairs': '...  \n",
       "9   {'Changing Tables': 'Yes', 'High Chairs': 'Yes...  \n",
       "10  {'Dairy-Free Options': 'Yes', 'Vegan Options':...  \n",
       "11  {'Vegan Options': 'Yes', 'Kids Menu': 'Yes', '...  \n",
       "12  {'Vegan Options': 'Yes', 'Gluten-Free Options'...  \n",
       "13  {'Vegan Options': 'Yes', 'Takes Reservations':...  \n",
       "14  {'Stroller at Table': 'Yes', 'Kids Menu': 'Yes...  \n",
       "15  {'Kids Menu': 'Yes', 'Stroller at Table': 'Yes...  \n",
       "16  {'Happy Hour Specials': 'Yes', 'Vegan Options'...  \n",
       "17  {'Vegan Options': 'Yes', 'Vegetarian Options':...  \n",
       "18  {'Accepts Credit Cards': 'Yes', 'Parking': 'Pr...  \n",
       "19  {'Happy Hour Specials': 'Yes', 'Kids Menu': 'Y...  "
      ]
     },
     "execution_count": 170,
     "metadata": {},
     "output_type": "execute_result"
    }
   ],
   "source": [
    "##\n",
    "import pandas as pd\n",
    "pd.DataFrame(results)"
   ]
  },
  {
   "cell_type": "code",
   "execution_count": null,
   "metadata": {
    "collapsed": true
   },
   "outputs": [],
   "source": []
  }
 ],
 "metadata": {
  "kernelspec": {
   "display_name": "Python 3",
   "language": "python",
   "name": "python3"
  },
  "language_info": {
   "codemirror_mode": {
    "name": "ipython",
    "version": 3
   },
   "file_extension": ".py",
   "mimetype": "text/x-python",
   "name": "python",
   "nbconvert_exporter": "python",
   "pygments_lexer": "ipython3",
   "version": "3.6.6"
  }
 },
 "nbformat": 4,
 "nbformat_minor": 4
}
